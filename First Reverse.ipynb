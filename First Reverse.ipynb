{
 "cells": [
  {
   "cell_type": "markdown",
   "metadata": {},
   "source": [
    "# First Reverse\n",
    "\n",
    "Have the function FirstReverse(str) take the str parameter being passed and return the string in reversed order. For example: if the input string is \"Hello World and Coders\" then your program should return the string sredoC dna dlroW olleH.\n",
    "\n",
    "Examples\n",
    "Input: \"coderbyte\"\n",
    "Output: etybredoc\n",
    "\n",
    "Input: \"I Love Code\"\n",
    "Output: edoC evoL I\n",
    "\n",
    "Tags: string manipulation, free"
   ]
  },
  {
   "cell_type": "code",
   "execution_count": 2,
   "metadata": {},
   "outputs": [
    {
     "name": "stdout",
     "output_type": "stream",
     "text": [
      "etybredoC\n"
     ]
    }
   ],
   "source": [
    "def FirstReverse(strParam):\n",
    "  return strParam[::-1]\n",
    "\n",
    "# keep this function call here \n",
    "print(FirstReverse(input()))"
   ]
  }
 ],
 "metadata": {
  "kernelspec": {
   "display_name": "Python 3",
   "language": "python",
   "name": "python3"
  },
  "language_info": {
   "codemirror_mode": {
    "name": "ipython",
    "version": 3
   },
   "file_extension": ".py",
   "mimetype": "text/x-python",
   "name": "python",
   "nbconvert_exporter": "python",
   "pygments_lexer": "ipython3",
   "version": "3.10.12"
  },
  "orig_nbformat": 4
 },
 "nbformat": 4,
 "nbformat_minor": 2
}
