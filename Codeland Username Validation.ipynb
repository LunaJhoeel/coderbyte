{
 "cells": [
  {
   "cell_type": "markdown",
   "metadata": {},
   "source": [
    "### Codeland Username Validation\n",
    "\n",
    "Have the function CodelandUsernameValidation(str) take the str parameter being passed and determine if the string is a valid username according to the following rules:\n",
    "\n",
    "1. The username is between 4 and 25 characters.\n",
    "2. It must start with a letter.\n",
    "3. It can only contain letters, numbers, and the underscore character.\n",
    "4. It cannot end with an underscore character.\n",
    "\n",
    "If the username is valid then your program should return the string true, otherwise return the string false.\n",
    "\n",
    "Examples\n",
    "\n",
    "Input: \"aa_\"\n",
    "Output: false\n",
    "\n",
    "Input: \"u__hello_world123\"\n",
    "Output: true\n",
    "\n",
    "Tags: searching, string manipulation, searching, regular expression, Codeland,free\n"
   ]
  },
  {
   "cell_type": "code",
   "execution_count": 1,
   "metadata": {},
   "outputs": [
    {
     "name": "stdout",
     "output_type": "stream",
     "text": [
      "false\n"
     ]
    }
   ],
   "source": [
    "def CodelandUsernameValidation(strParam):\n",
    "    # Check the length of the username\n",
    "    if len(strParam) < 4 or len(strParam) > 25:\n",
    "        return \"false\"\n",
    "    \n",
    "    # Check if the first character is a letter\n",
    "    if not strParam[0].isalpha():\n",
    "        return \"false\"\n",
    "\n",
    "    # Check if the username ends with an underscore\n",
    "    if strParam[-1] == \"_\":\n",
    "        return \"false\"\n",
    "\n",
    "    # Check if the username contains only letters, numbers, and underscores\n",
    "    for char in strParam:\n",
    "        if not (char.isalnum() or char == \"_\"):\n",
    "            return \"false\"\n",
    "\n",
    "    return \"true\"\n",
    "\n",
    "# keep this function call here \n",
    "print(CodelandUsernameValidation(input()))"
   ]
  },
  {
   "cell_type": "code",
   "execution_count": 2,
   "metadata": {},
   "outputs": [],
   "source": [
    "strParam = \"u__hello_world123\""
   ]
  },
  {
   "cell_type": "code",
   "execution_count": 3,
   "metadata": {},
   "outputs": [],
   "source": [
    "# Check the length of the username\n",
    "if len(strParam) < 4 or len(strParam) > 25:\n",
    "    print(\"false\")"
   ]
  },
  {
   "cell_type": "code",
   "execution_count": 4,
   "metadata": {},
   "outputs": [
    {
     "name": "stdout",
     "output_type": "stream",
     "text": [
      "true\n"
     ]
    }
   ],
   "source": [
    "# Check if the first character is a letter\n",
    "if strParam[0].isalpha():\n",
    "    print(\"true\")"
   ]
  },
  {
   "cell_type": "code",
   "execution_count": 5,
   "metadata": {},
   "outputs": [],
   "source": [
    "# Check if the first character is a letter\n",
    "if not strParam[0].isalpha():\n",
    "    print(\"false\")"
   ]
  },
  {
   "cell_type": "code",
   "execution_count": 6,
   "metadata": {},
   "outputs": [
    {
     "name": "stdout",
     "output_type": "stream",
     "text": [
      "true\n",
      "true\n",
      "true\n",
      "true\n",
      "true\n",
      "true\n",
      "true\n",
      "true\n",
      "true\n",
      "true\n",
      "true\n",
      "true\n",
      "true\n",
      "true\n",
      "true\n",
      "true\n",
      "true\n"
     ]
    }
   ],
   "source": [
    "# Check if the username contains only letters, numbers, and underscores\n",
    "for char in strParam:\n",
    "    if (char.isalnum() or char == \"_\"):\n",
    "        print(\"true\")"
   ]
  },
  {
   "cell_type": "code",
   "execution_count": 7,
   "metadata": {},
   "outputs": [],
   "source": [
    "# Check if the username contains only letters, numbers, and underscores\n",
    "for char in strParam:\n",
    "    if not (char.isalnum() or char == \"_\"):\n",
    "        print(\"false\")"
   ]
  }
 ],
 "metadata": {
  "kernelspec": {
   "display_name": "Python 3",
   "language": "python",
   "name": "python3"
  },
  "language_info": {
   "codemirror_mode": {
    "name": "ipython",
    "version": 3
   },
   "file_extension": ".py",
   "mimetype": "text/x-python",
   "name": "python",
   "nbconvert_exporter": "python",
   "pygments_lexer": "ipython3",
   "version": "3.10.12"
  },
  "orig_nbformat": 4
 },
 "nbformat": 4,
 "nbformat_minor": 2
}
