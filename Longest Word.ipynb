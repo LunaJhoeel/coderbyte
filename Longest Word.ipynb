{
 "cells": [
  {
   "cell_type": "markdown",
   "metadata": {},
   "source": [
    "### Longest Word\n",
    "\n",
    "Have the function LongestWord(sen) take the sen parameter being passed and return the longest word in the string. If there are two or more words that are the same length, return the first word from the string with that length. Ignore punctuation and assume sen will not be empty. Words may also contain numbers, for example \"Hello world123 567\"\n",
    "\n",
    "Examples\n",
    "\n",
    "Input: \"fun&!! time\"\n",
    "Output: time\n",
    "\n",
    "Input: \"I love dogs\"\n",
    "Output: love\n",
    "\n",
    "Tags: string manipulation, searching, free"
   ]
  },
  {
   "cell_type": "code",
   "execution_count": null,
   "metadata": {
    "vscode": {
     "languageId": "plaintext"
    }
   },
   "outputs": [],
   "source": [
    "def LongestWord(sen):\n",
    "\n",
    "  # code goes here\n",
    "  return sen\n",
    "\n",
    "# keep this function call here \n",
    "print(LongestWord(input()))"
   ]
  },
  {
   "cell_type": "code",
   "execution_count": null,
   "metadata": {
    "vscode": {
     "languageId": "plaintext"
    }
   },
   "outputs": [],
   "source": []
  }
 ],
 "metadata": {
  "language_info": {
   "name": "python"
  },
  "orig_nbformat": 4
 },
 "nbformat": 4,
 "nbformat_minor": 2
}
